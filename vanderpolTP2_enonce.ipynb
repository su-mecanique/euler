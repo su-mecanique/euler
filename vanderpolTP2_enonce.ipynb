{
 "cells": [
  {
   "cell_type": "markdown",
   "metadata": {},
   "source": [
    "# Basin of attraction\n",
    "(To do only if standard Euler is completed)\n",
    "\n",
    "We have a spring with stifness constant $k=1$ and dissipation coefficient $c$ :\n",
    "\n",
    "$ \\ddot{x} = - x - c(x) \\, v $\n",
    "\n",
    "where the speed $v=\\dot{x}$.\n",
    "\n",
    "The dissipation has the special property to depend on the displacement $x$ : \n",
    "\n",
    "$c(x) = (1-x^2)$\n",
    "\n",
    "Consequently when the displacement $x$ is small, the system has positive dissipation and the dynamics is damped and settles down to zero.\n",
    "\n",
    "But when the displacement $x$ is large enough, the system has 'negative' dissipation and the dynamics is amplified and diverges.\n",
    "\n",
    "This means that depending on the initial condition, the long time state of the system will either be $x \\to 0$ or $x \\to \\infty$.\n",
    "\n",
    "In the plane $(x,v)$, plot the set of initial conditions that eventually leads to $x \\to 0$ in green, and the set of initial conditions that eventually leads to $x \\to \\infty$ in red."
   ]
  },
  {
   "cell_type": "code",
   "execution_count": null,
   "metadata": {},
   "outputs": [],
   "source": []
  }
 ],
 "metadata": {
  "kernelspec": {
   "display_name": "Python 3",
   "language": "python",
   "name": "python3"
  },
  "language_info": {
   "codemirror_mode": {
    "name": "ipython",
    "version": 3
   },
   "file_extension": ".py",
   "mimetype": "text/x-python",
   "name": "python",
   "nbconvert_exporter": "python",
   "pygments_lexer": "ipython3",
   "version": "3.7.3"
  }
 },
 "nbformat": 4,
 "nbformat_minor": 4
}
